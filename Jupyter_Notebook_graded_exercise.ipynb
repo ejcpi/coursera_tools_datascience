{
 "cells": [
  {
   "cell_type": "markdown",
   "metadata": {},
   "source": [
    "<center>\n",
    "    <img src=\"https://cf-courses-data.s3.us.cloud-object-storage.appdomain.cloud/IBMDeveloperSkillsNetwork-DS0105EN-SkillsNetwork/labs/Module2/images/SN_web_lightmode.png\" width=\"300\" alt=\"cognitiveclass.ai logo\"  />\n",
    "</center>\n"
   ]
  },
  {
   "cell_type": "markdown",
   "metadata": {},
   "source": [
    "#### Add your code below following the instructions given in the course\n"
   ]
  },
  {
   "cell_type": "markdown",
   "metadata": {},
   "source": [
    "# My Jupyter Notebook on IBM Watson Studio"
   ]
  },
  {
   "cell_type": "markdown",
   "metadata": {},
   "source": [
    "**Emanuel José Capechi de Pinho**\n",
    "\n",
    "Geophysicist"
   ]
  },
  {
   "cell_type": "markdown",
   "metadata": {},
   "source": [
    "*There is a large amount of geophysical data available, that can be used to better understand our planet. That is why I am interested in Data Science.*"
   ]
  },
  {
   "cell_type": "markdown",
   "metadata": {},
   "source": [
    "### This code takes two variables, a and b, and adds them. The result is made available in a third variable, named res. The value in res is finally printed on screen."
   ]
  },
  {
   "cell_type": "code",
   "execution_count": 2,
   "metadata": {},
   "outputs": [
    {
     "name": "stdout",
     "output_type": "stream",
     "text": [
      "3\n"
     ]
    }
   ],
   "source": [
    "a = 1\n",
    "b = 2\n",
    "res = a + b\n",
    "\n",
    "print(res)"
   ]
  },
  {
   "cell_type": "markdown",
   "metadata": {},
   "source": [
    "If you would like to install jupyter notebook locally on your computer, you can get it through Anaconda distribution, available at <a href=\"http://www.anaconda.com\">www.anaconda.com</a>.\n",
    "Jupyter notebook is a very nice and powerful tool. With it you can:\n",
    "<ol>\n",
    "    <li> Run python codes</li>\n",
    "    <li>Run R codes</li>\n",
    "    <li>Run Julia codes</li>\n",
    "    <li>Embbed markdown texts, even with HTML tags</li>\n",
    "</ol>\n",
    "\n",
    " You can even run fancy text formatting like a ~strikethrough~."
   ]
  }
 ],
 "metadata": {
  "kernelspec": {
   "display_name": "Python 3 (ipykernel)",
   "language": "python",
   "name": "python3"
  },
  "language_info": {
   "codemirror_mode": {
    "name": "ipython",
    "version": 3
   },
   "file_extension": ".py",
   "mimetype": "text/x-python",
   "name": "python",
   "nbconvert_exporter": "python",
   "pygments_lexer": "ipython3",
   "version": "3.8.3"
  }
 },
 "nbformat": 4,
 "nbformat_minor": 4
}
